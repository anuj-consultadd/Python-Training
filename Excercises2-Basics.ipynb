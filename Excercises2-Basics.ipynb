{
 "cells": [
  {
   "cell_type": "markdown",
   "metadata": {},
   "source": [
    "Write a function translate() that will translate a text into \"rövarspråket\" (Swedish for \"robber's language\"). That is, double every consonant and place an occurrence of \"o\" in between. For example, translate(\"this is fun\") should return the string \"tothohisos isos fofunon\"."
   ]
  },
  {
   "cell_type": "code",
   "execution_count": 9,
   "metadata": {},
   "outputs": [
    {
     "name": "stdout",
     "output_type": "stream",
     "text": [
      "tothohisos isos fofunon\n"
     ]
    }
   ],
   "source": [
    "# Your Solution here \n",
    "def translate(str):\n",
    "    new_str = \"\"\n",
    "    for letter in  str:\n",
    "        new_str += letter \n",
    "        if (letter != 'a' and letter != 'e' and letter != 'i' and letter != 'o' and letter != 'u' and letter != ' '):\n",
    "            new_str += 'o' + letter\n",
    "    return new_str\n",
    "\n",
    "print(translate(\"this is fun\"))\n",
    "\n"
   ]
  },
  {
   "cell_type": "markdown",
   "metadata": {},
   "source": [
    "Define a function sum() and a function multiply() that sums and multiplies (respectively) all the numbers in a list of numbers. For example, sum([1, 2, 3, 4]) should return 10, and multiply([1, 2, 3, 4]) should return 24"
   ]
  },
  {
   "cell_type": "code",
   "execution_count": 12,
   "metadata": {},
   "outputs": [
    {
     "name": "stdout",
     "output_type": "stream",
     "text": [
      "10\n",
      "24\n"
     ]
    }
   ],
   "source": [
    "def sum(lst):\n",
    "    sumi = 0\n",
    "    for digit in lst:\n",
    "        sumi += digit\n",
    "    return sumi\n",
    "\n",
    "def multiply(lst):\n",
    "    multi = 1\n",
    "    for digit in lst:\n",
    "        multi *= digit\n",
    "    return multi\n",
    "\n",
    "num = [1,2,3,4]\n",
    "\n",
    "print (sum(num))\n",
    "print (multiply(num))\n"
   ]
  },
  {
   "cell_type": "markdown",
   "metadata": {},
   "source": [
    "**Define a function reverse() that computes the reversal of a string. For example, reverse(\"I am testing\") should return the string \"gnitset ma I**"
   ]
  },
  {
   "cell_type": "code",
   "execution_count": 17,
   "metadata": {},
   "outputs": [
    {
     "name": "stdout",
     "output_type": "stream",
     "text": [
      "gnitset ma I\n"
     ]
    }
   ],
   "source": [
    "def reverse(str):\n",
    "    n = len(str) -1\n",
    "    new_str = \"\"\n",
    "    while (n >= 0):\n",
    "        new_str += str[n]\n",
    "        n -= 1\n",
    "    return new_str\n",
    "\n",
    "print(reverse(\"I am testing\"))\n"
   ]
  },
  {
   "cell_type": "markdown",
   "metadata": {},
   "source": [
    "**Define a function is_palindrome() that recognizes palindromes (i.e. words that look the same written backwards). For example, is_palindrome(\"radar\") should return True.**"
   ]
  },
  {
   "cell_type": "code",
   "execution_count": 20,
   "metadata": {},
   "outputs": [
    {
     "name": "stdout",
     "output_type": "stream",
     "text": [
      "True\n"
     ]
    }
   ],
   "source": [
    "def is_plaindrome(str):\n",
    "    left = 0\n",
    "    right = len(str) -1\n",
    "\n",
    "    while(left <= right):\n",
    "        if str[left] != str[right]:\n",
    "            return False\n",
    "        left += 1\n",
    "        right -= 1\n",
    "    return True\n",
    "\n",
    "print (is_plaindrome(\"radar\"))"
   ]
  },
  {
   "cell_type": "markdown",
   "metadata": {},
   "source": [
    "**Write a function is_member() that takes a value (i.e. a number, string, etc) x and a list of values a, and returns True if x is a member of a, False otherwise.**"
   ]
  },
  {
   "cell_type": "code",
   "execution_count": null,
   "metadata": {},
   "outputs": [],
   "source": [
    "def is__member(val, lst):\n",
    "    if val in lst:\n",
    "        return True\n",
    "    else:\n",
    "        return False\n"
   ]
  },
  {
   "cell_type": "markdown",
   "metadata": {},
   "source": [
    "**Define a function overlapping() that takes two lists and returns True if they have at least one member in common, False otherwise. You may use your is_member() function, or the in operator, but for the sake of the exercise, you should (also) write it using two nested for-loops.**"
   ]
  },
  {
   "cell_type": "code",
   "execution_count": 33,
   "metadata": {},
   "outputs": [
    {
     "name": "stdout",
     "output_type": "stream",
     "text": [
      "False\n",
      "True\n"
     ]
    }
   ],
   "source": [
    "def overlapping(lst1, lst2):\n",
    "    for item in lst1:\n",
    "        if item in lst2:\n",
    "            return True\n",
    "        \n",
    "    else: return False\n",
    "\n",
    "print (overlapping ( [14, 12, 11], [1, 2, 3, 4, 5, 6 ] ) )\n",
    "print (overlapping ( [1, 2, 11], [1, 2, 3, 4, 5, 6 ] ) )"
   ]
  },
  {
   "cell_type": "markdown",
   "metadata": {},
   "source": [
    "\n",
    "****\n",
    "*********\n",
    "*******"
   ]
  },
  {
   "cell_type": "code",
   "execution_count": 35,
   "metadata": {},
   "outputs": [
    {
     "name": "stdout",
     "output_type": "stream",
     "text": [
      "True\n",
      "False\n"
     ]
    }
   ],
   "source": [
    "def overlapping(lst1, lst2):\n",
    "    for item1 in lst1:\n",
    "        for item2 in lst2:\n",
    "            if item1 == item2:\n",
    "                return True\n",
    "        \n",
    "    else: return False\n",
    "\n",
    "print (overlapping ( [1, 2, 11], [1, 2, 3, 4, 5, 6 ] ) )\n",
    "print (overlapping ( [14, 12, 11], [1, 2, 3, 4, 5, 6 ] ) )"
   ]
  },
  {
   "cell_type": "markdown",
   "metadata": {},
   "source": [
    "**Write a function char_freq() that takes a string and builds a frequency listing of the characters contained in it. Represent the frequency listing as a Python dictionary. Try it with something like char_freq(\"abbabcbdbabdbdbabababcbcbab\").**\n",
    "\n"
   ]
  },
  {
   "cell_type": "code",
   "execution_count": 47,
   "metadata": {},
   "outputs": [
    {
     "name": "stdout",
     "output_type": "stream",
     "text": [
      "{'a': 7, 'b': 14, 'c': 3, 'd': 3}\n"
     ]
    }
   ],
   "source": [
    "def char_freq(str):\n",
    "    freq_dict = {}\n",
    "    for x in str:\n",
    "        freq_dict[x] = freq_dict.get(x,0) + 1\n",
    "    return freq_dict\n",
    "\n",
    "print(char_freq(\"abbabcbdbabdbdbabababcbcbab\"))\n",
    "    "
   ]
  },
  {
   "cell_type": "markdown",
   "metadata": {},
   "source": [
    "**Write a program able to play the \"Guess the number\"-game, where the number to be guessed is randomly chosen between 1 and 20. (Source: http://inventwithpython.com) This is how it should work when run in a terminal:\n",
    "\n",
    "Hello! What is your name?\n",
    "Torbjörn\n",
    "Well, Torbjörn, I am thinking of a number between 1 and 20.\n",
    "Take a guess.\n",
    "10\n",
    "Your guess is too low.\n",
    "Take a guess.\n",
    "15\n",
    "Your guess is too low.\n",
    "Take a guess.\n",
    "18\n",
    "Good job, Torbjörn! You guessed my number in 3 guesses!***"
   ]
  },
  {
   "cell_type": "code",
   "execution_count": null,
   "metadata": {},
   "outputs": [
    {
     "name": "stdout",
     "output_type": "stream",
     "text": [
      "Hello!\n",
      "What is your name?\n"
     ]
    }
   ],
   "source": [
    "import random \n",
    "\n",
    "def guess_the_number():\n",
    "    print(\"Hello!\\nWhat is your name?\")\n",
    "    name = input()\n",
    "\n",
    "    num = random.randint(1,20)\n",
    "    count = 0\n",
    "    \n",
    "    print (f\"well {name}  I am thinking of a number between 1 and 20.\\n \")\n",
    "    \n",
    "    while True:\n",
    "        guessVal = int(input(\"Take a guess \"))\n",
    "        count += 1\n",
    "        \n",
    "        if guessVal < num:\n",
    "            print(\"Your guess is too low \\n\")\n",
    "\n",
    "        elif guessVal > num:\n",
    "            print(\"Your guess is too high \\n\")\n",
    "\n",
    "        else:\n",
    "            print(f\"Good Job {name}! \\nYou guessed my number in {count} guesses!\")\n",
    "            return\n",
    "            \n",
    "    \n",
    "    return \n",
    "\n",
    "guess_the_number()"
   ]
  },
  {
   "cell_type": "markdown",
   "metadata": {},
   "source": [
    "***Write a program that maps a list of words into a list of integers representing the lengths of the correponding words.***\n"
   ]
  },
  {
   "cell_type": "code",
   "execution_count": 2,
   "metadata": {},
   "outputs": [
    {
     "name": "stdout",
     "output_type": "stream",
     "text": [
      "[3, 3, 4]\n"
     ]
    }
   ],
   "source": [
    "# we can use list comprehension here\n",
    "def word_len_map(words):\n",
    "    return [len(word) for word in words]\n",
    "\n",
    "print(word_len_map([\"you\", \"are\", \"here\"]))"
   ]
  }
 ],
 "metadata": {
  "kernelspec": {
   "display_name": "myenv",
   "language": "python",
   "name": "python3"
  },
  "language_info": {
   "codemirror_mode": {
    "name": "ipython",
    "version": 3
   },
   "file_extension": ".py",
   "mimetype": "text/x-python",
   "name": "python",
   "nbconvert_exporter": "python",
   "pygments_lexer": "ipython3",
   "version": "3.13.2"
  }
 },
 "nbformat": 4,
 "nbformat_minor": 2
}
