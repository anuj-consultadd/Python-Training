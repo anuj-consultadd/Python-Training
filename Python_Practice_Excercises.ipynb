{
 "cells": [
  {
   "cell_type": "markdown",
   "metadata": {},
   "source": [
    "<p>Write a Python program that accepts an integer (n) and computes the value of n+nn+nnn.</p>\n",
    "<p> Go to the editor </p>\n",
    "<p>Sample value of n is 5 </p>\n",
    "Expected Result : 615"
   ]
  },
  {
   "cell_type": "code",
   "execution_count": 3,
   "metadata": {},
   "outputs": [
    {
     "name": "stdout",
     "output_type": "stream",
     "text": [
      "615\n"
     ]
    }
   ],
   "source": [
    "def func(n):\n",
    "    val1 = n\n",
    "    val2 = n+n\n",
    "    val3 = n+n+n\n",
    "    return int(val1) + int(val2) + int(val3)\n",
    "    \n",
    "\n",
    "val = input(\"enter a number\")\n",
    "print(func(val))"
   ]
  },
  {
   "cell_type": "markdown",
   "metadata": {},
   "source": [
    "Create a program that asks the user to enter their name and their age.\n",
    "Print out a message addressed to them that tells them the year that they will turn 100 years old.\n",
    "\n"
   ]
  },
  {
   "cell_type": "code",
   "execution_count": 2,
   "metadata": {},
   "outputs": [
    {
     "name": "stdout",
     "output_type": "stream",
     "text": [
      "Hello! what is your name?\n",
      "Ok anuj, what is your age?\n",
      "You will turn 100 in 2103\n"
     ]
    }
   ],
   "source": [
    "print(\"Hello! what is your name?\")\n",
    "name = input()\n",
    "print(f\"Ok {name}, what is your age?\")\n",
    "age = int(input())\n",
    "\n",
    "curr_year = 2025\n",
    "years_to_reach_100 = 100 - age\n",
    "final_year = curr_year + years_to_reach_100\n",
    "\n",
    "print(f\"You will turn 100 in {final_year}\")\n"
   ]
  },
  {
   "cell_type": "markdown",
   "metadata": {},
   "source": [
    "Write a Python program to check a triangle is valid or not"
   ]
  },
  {
   "cell_type": "code",
   "execution_count": 5,
   "metadata": {},
   "outputs": [
    {
     "name": "stdout",
     "output_type": "stream",
     "text": [
      "enter the sides of the triangle\n",
      "the given sides belong to a valid triangle\n"
     ]
    }
   ],
   "source": [
    "print(\"enter the sides of the triangle\")\n",
    "side1 = int(input(\"enter first edge length\"))\n",
    "side2 = int(input(\"enter second edge length \"))\n",
    "side3 = int(input(\"enter third edge length \"))\n",
    "\n",
    "if side1 + side2 < side3 :\n",
    "    print(\"not a valid triangle\")\n",
    "\n",
    "elif side1 + side3 < side2 :\n",
    "    print(\"not a valid triangle\")\n",
    "\n",
    "elif side3 + side2 < side1:\n",
    "    print(\"not a valid triangle\")\n",
    "\n",
    "else :\n",
    "    print(\"the given sides belong to a valid triangle\")\n"
   ]
  },
  {
   "cell_type": "markdown",
   "metadata": {},
   "source": [
    "Write a Python program to construct the following pattern, using a nested loop number.\n",
    "1                                                                                                             \n",
    "22                                                                                                            \n",
    "333                                                                                                           \n",
    "4444                                                                                                          \n",
    "55555                                                                                                         \n",
    "666666                                                                                                        \n",
    "7777777                                                                                                       \n",
    "88888888                                                                                                      \n",
    "999999999  "
   ]
  },
  {
   "cell_type": "code",
   "execution_count": 28,
   "metadata": {},
   "outputs": [
    {
     "name": "stdout",
     "output_type": "stream",
     "text": [
      "1 \n",
      "1 2 \n",
      "1 2 3 \n",
      "1 2 3 4 \n",
      "1 2 3 4 5 \n",
      "1 2 3 4 5 6 \n",
      "1 2 3 4 5 6 7 \n",
      "1 2 3 4 5 6 7 8 \n",
      "1 2 3 4 5 6 7 8 9 \n"
     ]
    }
   ],
   "source": [
    "val1 = 1\n",
    "\n",
    "\n",
    "while val1 < 10 :\n",
    "    val2 = 1\n",
    "    while val2 <= val1:\n",
    "        print(val2, end = \" \")\n",
    "        val2 += 1\n",
    "\n",
    "    #print(\"\\n\", end = \"\")\n",
    "    print()\n",
    "    val1 += 1\n"
   ]
  },
  {
   "cell_type": "code",
   "execution_count": null,
   "metadata": {},
   "outputs": [],
   "source": [
    "#  Write a Python program to construct the following pattern, using a nested for loop.\n",
    "# * \n",
    "# * * \n",
    "# * * * \n",
    "# * * * * \n",
    "# * * * * * \n",
    "# * * * * \n",
    "# * * * \n",
    "# * * \n",
    "# *"
   ]
  },
  {
   "cell_type": "code",
   "execution_count": 38,
   "metadata": {},
   "outputs": [
    {
     "name": "stdout",
     "output_type": "stream",
     "text": [
      "* \n",
      "* * \n",
      "* * * \n",
      "* * * * \n",
      "* * * * * \n",
      "* * * * \n",
      "* * * \n",
      "* * \n",
      "* \n"
     ]
    }
   ],
   "source": [
    "val1 = 5;\n",
    "\n",
    "# for i in range(1, val1 + 1):\n",
    "#     print(\"*\" * i)\n",
    "\n",
    "# for i in range(val1 - 1, 0, -1):\n",
    "#     print(\"*\" * i)\n",
    "\n",
    "val1 = 5 \n",
    "\n",
    "for i in range(1, val1 + 1): \n",
    "    for j in range(i):\n",
    "        print(\"*\", end=\" \") \n",
    "    print()  \n",
    "\n",
    "for i in range(val1 - 1, 0, -1):  \n",
    "    for j in range(i):\n",
    "        print(\"*\", end=\" \") \n",
    "    print()  \n",
    "\n",
    "\n"
   ]
  },
  {
   "cell_type": "code",
   "execution_count": 10,
   "metadata": {},
   "outputs": [],
   "source": [
    "# Write a Python program that accepts a string and calculate the number of digits and letters\n",
    "# Sample Data : \"Python 3.2\"\n",
    "# Expected Output :\n",
    "# Letters 6 \n",
    "# Digits 2"
   ]
  },
  {
   "cell_type": "code",
   "execution_count": 40,
   "metadata": {},
   "outputs": [
    {
     "name": "stdout",
     "output_type": "stream",
     "text": [
      "Letters: 6 \n",
      "Digits: 2\n"
     ]
    }
   ],
   "source": [
    "str = input(\"enter the string\")\n",
    "\n",
    "letters = 0\n",
    "digits = 0\n",
    "\n",
    "for x in str:\n",
    "    if x.isalpha():\n",
    "        letters += 1\n",
    "    if x.isdigit():\n",
    "        digits += 1\n",
    "\n",
    "print(f\"Letters: {letters} \\nDigits: {digits}\")"
   ]
  },
  {
   "cell_type": "code",
   "execution_count": 11,
   "metadata": {},
   "outputs": [],
   "source": [
    "# Count the number of even and odd numbers from a series of numbers\n",
    "# Input \n",
    "# numbers = (1, 2, 3, 4, 5, 6, 7, 8, 9) # Declaring the tuple\n",
    "# Output\n",
    "# Number of even numbers : 4                                                                                    \n",
    "# Number of odd numbers : 5 "
   ]
  },
  {
   "cell_type": "code",
   "execution_count": null,
   "metadata": {},
   "outputs": [
    {
     "name": "stdout",
     "output_type": "stream",
     "text": [
      "Number of even numbers: 4 \n",
      " Number of odd numbers: 5\n"
     ]
    }
   ],
   "source": [
    "numbers = (1, 2, 3, 4, 5, 6, 7, 8, 9)\n",
    "\n",
    "even = 0\n",
    "odd = 0\n",
    "\n",
    "for x in numbers:\n",
    "    if x % 2 == 0:\n",
    "        even += 1\n",
    "    else:\n",
    "        odd += 1\n",
    "\n",
    "print(f\"Number of even numbers: {even} \\nNumber of odd numbers: {odd}\")"
   ]
  },
  {
   "cell_type": "code",
   "execution_count": 12,
   "metadata": {},
   "outputs": [],
   "source": [
    "# Write a Python program to get the Fibonacci series between 0 to 50"
   ]
  },
  {
   "cell_type": "code",
   "execution_count": 59,
   "metadata": {},
   "outputs": [
    {
     "name": "stdout",
     "output_type": "stream",
     "text": [
      "0 1 1 2 3 5 8 13 21 34 "
     ]
    }
   ],
   "source": [
    "def fib (a, b):\n",
    "    print(f\"{a}\", end = \" \")\n",
    "\n",
    "    temp = a\n",
    "    a = b \n",
    "    b = b + temp\n",
    "    \n",
    "    if a > 50 :\n",
    "        return\n",
    "\n",
    "    else: fib (a, b)\n",
    "\n",
    "fib(0,1)\n",
    "    "
   ]
  },
  {
   "cell_type": "code",
   "execution_count": 13,
   "metadata": {},
   "outputs": [],
   "source": [
    "#  Write a Python program to find those numbers which are divisible by 7 and multiple of 5, between 1500 and 2700\n"
   ]
  },
  {
   "cell_type": "code",
   "execution_count": null,
   "metadata": {},
   "outputs": [
    {
     "name": "stdout",
     "output_type": "stream",
     "text": [
      "[1505, 1540, 1575, 1610, 1645, 1680, 1715, 1750, 1785, 1820, 1855, 1890, 1925, 1960, 1995, 2030, 2065, 2100, 2135, 2170, 2205, 2240, 2275, 2310, 2345, 2380, 2415, 2450, 2485, 2520, 2555, 2590, 2625, 2660, 2695]\n"
     ]
    }
   ],
   "source": [
    "def fun():\n",
    "    lst =[]\n",
    "    for x in range(1500, 2701):\n",
    "        if x % 35 == 0 :\n",
    "            lst.append(x)\n",
    "    \n",
    "    return lst\n",
    "\n",
    "print(fun())\n",
    "\n"
   ]
  },
  {
   "cell_type": "code",
   "execution_count": 14,
   "metadata": {},
   "outputs": [],
   "source": [
    "# Generate a random number between 1 and 9 (including 1 and 9).\n",
    "# Ask the user to guess the number, then tell them whether they guessed too low, too high, or exactly right. "
   ]
  },
  {
   "cell_type": "code",
   "execution_count": 64,
   "metadata": {},
   "outputs": [
    {
     "name": "stdout",
     "output_type": "stream",
     "text": [
      "Hello!\n",
      "What is your name?\n",
      "well anuj  I am thinking of a number between 1 and 9.\n",
      " \n",
      "Your guess is too high \n",
      "\n",
      "Your guess is too high \n",
      "\n",
      "Your guess is too high \n",
      "\n",
      "Your guess is too high \n",
      "\n",
      "Good Job anuj! \n",
      "You guessed my number in 5 guesses!\n"
     ]
    }
   ],
   "source": [
    "import random \n",
    "\n",
    "def guess_the_number():\n",
    "    print(\"Hello!\\nWhat is your name?\")\n",
    "    name = input()\n",
    "\n",
    "    num = random.randint(1,9)\n",
    "    count = 0\n",
    "    \n",
    "    print (f\"well {name}  I am thinking of a number between 1 and 9.\\n \")\n",
    "    \n",
    "    while True:\n",
    "        guessVal = int(input(\"Take a guess \"))\n",
    "        count += 1\n",
    "        \n",
    "        if guessVal < num:\n",
    "            print(\"Your guess is too low \\n\")\n",
    "\n",
    "        elif guessVal > num:\n",
    "            print(\"Your guess is too high \\n\")\n",
    "\n",
    "        else:\n",
    "            print(f\"Good Job {name}! \\nYou guessed my number in {count} guesses!\")\n",
    "            return\n",
    "            \n",
    "    \n",
    "    return \n",
    "\n",
    "guess_the_number()"
   ]
  },
  {
   "cell_type": "code",
   "execution_count": 15,
   "metadata": {},
   "outputs": [],
   "source": [
    "# Write a Python program to check the validity of a password (input from users).\n",
    "# Validation :\n",
    "# At least 1 letter between [a-z] and 1 letter between [A-Z].\n",
    "# At least 1 number between [0-9].\n",
    "# At least 1 character from [$#@].\n",
    "# Minimum length 6 characters.\n",
    "# Maximum length 16 characters.\n",
    "# Input\n",
    "# W3r@100a\n",
    "# Output\n",
    "# Valid password"
   ]
  },
  {
   "cell_type": "code",
   "execution_count": 77,
   "metadata": {},
   "outputs": [
    {
     "name": "stdout",
     "output_type": "stream",
     "text": [
      "Valid password\n"
     ]
    }
   ],
   "source": [
    "import re\n",
    "\n",
    "def valid_password(str):\n",
    "    if not re.search(\"[a-z]\", str):\n",
    "        print(\"Invalid password\")\n",
    "        return\n",
    "    \n",
    "    if not re.search(\"[A-z]\",str):\n",
    "        print(\"Invalid Password\")\n",
    "        return\n",
    "    \n",
    "    if not re.search(\"[0-9]\",str):\n",
    "        print(\"Invalid Password\")\n",
    "        return\n",
    "    \n",
    "    if not \"@\" in str or \"#\" in str or \"$\" in str:\n",
    "        print(\"Invalid password\")\n",
    "        return\n",
    "    \n",
    "    if (len(str) < 6 or len(str)>16):\n",
    "        print(\"Invalid password\")\n",
    "        return\n",
    "    \n",
    "    else: print(\"Valid password\")\n",
    "    return\n",
    "    \n",
    "    \n",
    "\n",
    "valid_password(\"W3r@100a\")\n",
    "    "
   ]
  },
  {
   "cell_type": "code",
   "execution_count": 16,
   "metadata": {},
   "outputs": [],
   "source": [
    "# Write a Python program to check a triangle is equilateral, isosceles or scalene.\n",
    "# Note :\n",
    "# An equilateral triangle is a triangle in which all three sides are equal.\n",
    "# A scalene triangle is a triangle that has three unequal sides.\n",
    "# An isosceles triangle is a triangle with (at least) two equal sides."
   ]
  },
  {
   "cell_type": "code",
   "execution_count": 81,
   "metadata": {},
   "outputs": [
    {
     "name": "stdout",
     "output_type": "stream",
     "text": [
      "Triangle is scalene\n",
      "Triangle is equilateral\n",
      "Triangle is isosceles\n"
     ]
    }
   ],
   "source": [
    "def triangle_check(a, b, c):\n",
    "    if a== b and b == c :\n",
    "        print (\"Triangle is equilateral\")\n",
    "        return\n",
    "    elif a==b or b==c or c ==a:\n",
    "        print(\"Triangle is isosceles\")\n",
    "    \n",
    "    else:\n",
    "        print(\"Triangle is scalene\")\n",
    "        return\n",
    "    \n",
    "triangle_check(3,5,4)\n",
    "triangle_check(5,5,5)\n",
    "triangle_check(5,5,4)"
   ]
  },
  {
   "cell_type": "code",
   "execution_count": 17,
   "metadata": {},
   "outputs": [],
   "source": [
    "# Write a Python program to check whether an alphabet is a vowel or consonant\n"
   ]
  },
  {
   "cell_type": "code",
   "execution_count": 101,
   "metadata": {},
   "outputs": [
    {
     "name": "stdout",
     "output_type": "stream",
     "text": [
      "A is a vovel\n",
      "b is a consonant\n",
      "e is a vovel\n"
     ]
    }
   ],
   "source": [
    "def alpha_check(a):\n",
    "    if a.lower() in ('a', 'e', 'i', 'o', 'u'):\n",
    "        print(f\"{a} is a vovel\")\n",
    "        return\n",
    "\n",
    "    else: print(f\"{a} is a consonant\")\n",
    "\n",
    "alpha_check(\"A\")  \n",
    "alpha_check(\"b\")  \n",
    "alpha_check(\"e\")\n"
   ]
  },
  {
   "cell_type": "code",
   "execution_count": 102,
   "metadata": {},
   "outputs": [],
   "source": [
    "# Write a Python program to check whether a list contains a sublist.\n",
    "# Input\n",
    "# a = [2,4,3,5,7]\n",
    "# b = [4,3]\n",
    "# c = [3,7]\n",
    "# print(is_Sublist(a, b))\n",
    "# print(is_Sublist(a, c))\n",
    "# Output"
   ]
  },
  {
   "cell_type": "code",
   "execution_count": 103,
   "metadata": {},
   "outputs": [
    {
     "name": "stdout",
     "output_type": "stream",
     "text": [
      "True\n",
      "False\n"
     ]
    }
   ],
   "source": [
    "def is_sublist(main_list, sub_list):\n",
    "    if not sub_list:  \n",
    "        return True\n",
    "\n",
    "    for i in range(len(main_list) - len(sub_list) + 1): \n",
    "        if main_list[i:i + len(sub_list)] == sub_list: \n",
    "            return True \n",
    "\n",
    "    return False  \n",
    "\n",
    "# Test cases\n",
    "a = [2, 4, 3, 5, 7]\n",
    "b = [4, 3]\n",
    "c = [3, 7]\n",
    "\n",
    "print(is_sublist(a, b))  \n",
    "print(is_sublist(a, c))  \n"
   ]
  },
  {
   "cell_type": "code",
   "execution_count": 19,
   "metadata": {},
   "outputs": [],
   "source": [
    "# Write a Python program to find common items from two lists.\n",
    "# input\n",
    "# color1 = \"Red\", \"Green\", \"Orange\", \"White\"\n",
    "# color2 = \"Black\", \"Green\", \"White\", \"Pink\"\n",
    "# output\n",
    "# {'Green', 'White'}"
   ]
  },
  {
   "cell_type": "code",
   "execution_count": 104,
   "metadata": {},
   "outputs": [
    {
     "name": "stdout",
     "output_type": "stream",
     "text": [
      "{'Green', 'White'}\n"
     ]
    }
   ],
   "source": [
    "def find_common_items(list1, list2):\n",
    "    common_items = set() \n",
    "    for item1 in list1:  \n",
    "        for item2 in list2:\n",
    "            if item1 == item2: \n",
    "                common_items.add(item1)\n",
    "\n",
    "    return common_items \n",
    "\n",
    "\n",
    "color1 = [\"Red\", \"Green\", \"Orange\", \"White\"]\n",
    "color2 = [\"Black\", \"Green\", \"White\", \"Pink\"]\n",
    "\n",
    "print(find_common_items(color1, color2)) \n"
   ]
  },
  {
   "cell_type": "code",
   "execution_count": 20,
   "metadata": {},
   "outputs": [],
   "source": [
    "# Write a Python program to get the difference between the two lists\n",
    "# Input \n",
    "# list1 = [1, 2, 3, 4]\n",
    "# list2 = [1, 2]\n",
    "# Output\n",
    "# [3,4]"
   ]
  },
  {
   "cell_type": "code",
   "execution_count": 106,
   "metadata": {},
   "outputs": [
    {
     "name": "stdout",
     "output_type": "stream",
     "text": [
      "{3, 4}\n"
     ]
    }
   ],
   "source": [
    "def find_difference(list1, list2):\n",
    "    diff = set() \n",
    "    for item1 in list1:  \n",
    "        inList = False\n",
    "        for item2 in list2:\n",
    "            if item1 == item2: \n",
    "                inList = True\n",
    "                break\n",
    "        if not inList: diff.add(item1)\n",
    "\n",
    "    return diff\n",
    "\n",
    "list1 = [1, 2, 3, 4]\n",
    "list2 = [1, 2]\n",
    "\n",
    "print (find_difference(list1, list2))\n"
   ]
  },
  {
   "cell_type": "code",
   "execution_count": 21,
   "metadata": {},
   "outputs": [],
   "source": [
    "# Write a Python program to get the smallest number from a list.\n",
    "# max_num_in_list([1, 2, -8, 0])\n",
    "# return 2\n",
    "# Dont use max function "
   ]
  },
  {
   "cell_type": "code",
   "execution_count": 107,
   "metadata": {},
   "outputs": [
    {
     "name": "stdout",
     "output_type": "stream",
     "text": [
      "-8\n"
     ]
    }
   ],
   "source": [
    "def min_num_in_list(numbers):\n",
    "    if not numbers:  \n",
    "        return None \n",
    "\n",
    "    smallest = numbers[0] \n",
    "\n",
    "    for num in numbers:  \n",
    "        if num < smallest:  \n",
    "            smallest = num  \n",
    "\n",
    "    return smallest  \n",
    "\n",
    "\n",
    "print(min_num_in_list([1, 2, -8, 0]))  \n"
   ]
  },
  {
   "cell_type": "code",
   "execution_count": 22,
   "metadata": {},
   "outputs": [],
   "source": [
    "# Write a Python program to get the frequency of the elements in a list.\n",
    "# input\n",
    "# my_list = [10,10,10,10,20,20,20,20,40,40,50,50,30]\n",
    "# outout\n",
    "# {10: 4, 20: 4, 40: 2, 50: 2, 30: 1}\n"
   ]
  },
  {
   "cell_type": "code",
   "execution_count": 109,
   "metadata": {},
   "outputs": [
    {
     "name": "stdout",
     "output_type": "stream",
     "text": [
      "{10: 4, 20: 4, 40: 2, 50: 2, 30: 1}\n"
     ]
    }
   ],
   "source": [
    "def elem_freq(lst):\n",
    "    freq_dict = {}\n",
    "    for x in lst:\n",
    "        freq_dict[x] = freq_dict.get(x,0) + 1\n",
    "    return freq_dict\n",
    "my_list = [10,10,10,10,20,20,20,20,40,40,50,50,30]\n",
    "print(elem_freq(my_list))"
   ]
  },
  {
   "cell_type": "code",
   "execution_count": 23,
   "metadata": {},
   "outputs": [],
   "source": [
    "#  Write a Python program to generate all permutations of a list in Python\n",
    "# Input [1,2,3]\n",
    "# Output [(1, 2, 3), (1, 3, 2), (2, 1, 3), (2, 3, 1), (3, 1, 2), (3, 2, 1)]"
   ]
  },
  {
   "cell_type": "code",
   "execution_count": 111,
   "metadata": {},
   "outputs": [
    {
     "name": "stdout",
     "output_type": "stream",
     "text": [
      "[(1, 2, 3), (1, 3, 2), (2, 1, 3), (2, 3, 1), (3, 1, 2), (3, 2, 1)]\n"
     ]
    }
   ],
   "source": [
    "from itertools import permutations\n",
    "\n",
    "def generate_permutations(lst):\n",
    "    return list(permutations(lst))  \n",
    "\n",
    "\n",
    "my_list = [1, 2, 3]\n",
    "\n",
    "\n",
    "print(generate_permutations(my_list))\n"
   ]
  },
  {
   "cell_type": "code",
   "execution_count": 24,
   "metadata": {},
   "outputs": [],
   "source": [
    "# Write a Python program to remove duplicates from a list.\n",
    "# Input a = [10,20,30,20,10,50,60,40,80,50,40]\n",
    "# Output {40, 10, 80, 50, 20, 60, 30} "
   ]
  },
  {
   "cell_type": "code",
   "execution_count": 113,
   "metadata": {},
   "outputs": [
    {
     "name": "stdout",
     "output_type": "stream",
     "text": [
      "[40, 10, 50, 20, 30]\n"
     ]
    }
   ],
   "source": [
    "def remove_duplicates(lst):\n",
    "    return list(set(lst))  \n",
    "\n",
    "my_list = [10, 10, 10, 10, 20, 20, 20, 20, 40, 40, 50, 50, 30]\n",
    "print(remove_duplicates(my_list))\n",
    "\n"
   ]
  },
  {
   "cell_type": "code",
   "execution_count": 25,
   "metadata": {},
   "outputs": [],
   "source": [
    "# Write a Python program to find the second smallest number in a list.\n",
    "# input\n",
    "# second_smallest([1, 2, -8, -2, 0])\n",
    "# output\n",
    "# -2"
   ]
  },
  {
   "cell_type": "code",
   "execution_count": 114,
   "metadata": {},
   "outputs": [
    {
     "name": "stdout",
     "output_type": "stream",
     "text": [
      "-2\n"
     ]
    }
   ],
   "source": [
    "def second_smallest(lst):\n",
    "    if len(lst) < 2:\n",
    "        return None  \n",
    "    \n",
    "    unique_lst = list(set(lst)) \n",
    "    unique_lst.sort() \n",
    "    \n",
    "    if len(unique_lst) < 2:\n",
    "        return None \n",
    "    \n",
    "    return unique_lst[1]  \n",
    "\n",
    "print(second_smallest([1, 2, -8, -2, 0])) \n"
   ]
  },
  {
   "cell_type": "code",
   "execution_count": 26,
   "metadata": {},
   "outputs": [],
   "source": [
    "# Write a Python program to create a Caesar encryption\n",
    "# Note : In cryptography, a Caesar cipher, also known as Caesar's cipher, the shift cipher, Caesar's code or Caesar shift, is one of the simplest and most widely known encryption techniques.\n",
    "# It is a type of substitution cipher in which each letter in the plaintext is replaced by a letter some fixed number of positions down the alphabet.\n",
    "# For example, with a left shift of 3, D would be replaced by A, E would become B, and so on.\n",
    "# The method is named after Julius Caesar, who used it in his private correspondence.\n",
    "# plaintext:  defend the east wall of the castle\n",
    "# ciphertext: efgfoe uif fbtu xbmm pg uif dbtumf"
   ]
  },
  {
   "cell_type": "code",
   "execution_count": 116,
   "metadata": {},
   "outputs": [
    {
     "name": "stdout",
     "output_type": "stream",
     "text": [
      "efgfoe uif fbtu xbmm pg uif dbtumf\n"
     ]
    }
   ],
   "source": [
    "def caesar_cipher(text, shift_amount):\n",
    "    result = \"\" \n",
    "\n",
    "    for char in text:\n",
    "        if char.isalpha():  \n",
    "            \n",
    "            base = ord('a') if char.islower() else ord('A')\n",
    "            \n",
    "            shifted_index = (ord(char) - base + shift_amount) % 26\n",
    "            \n",
    "            new_char = chr(base + shifted_index)\n",
    "            result += new_char\n",
    "        else:\n",
    "            result += char  \n",
    "\n",
    "    return result\n",
    "\n",
    "\n",
    "plaintext = \"defend the east wall of the castle\"\n",
    "shift_value = 1  \n",
    "ciphertext = caesar_cipher(plaintext, shift_value)\n",
    "\n",
    "print(ciphertext)  \n"
   ]
  },
  {
   "cell_type": "code",
   "execution_count": 27,
   "metadata": {},
   "outputs": [],
   "source": [
    "# Write a Python program to change a given string to a new string where the first and last chars have been exchanged"
   ]
  },
  {
   "cell_type": "code",
   "execution_count": null,
   "metadata": {},
   "outputs": [
    {
     "name": "stdout",
     "output_type": "stream",
     "text": [
      "oellh\n"
     ]
    }
   ],
   "source": [
    "def swap_first_last(s):\n",
    "    if len(s) <= 1:\n",
    "        return s  \n",
    "    \n",
    "    return s[-1] + s[1:-1] + s[0]  \n",
    "\n",
    "print(swap_first_last(\"hello\")) \n"
   ]
  },
  {
   "cell_type": "code",
   "execution_count": 28,
   "metadata": {},
   "outputs": [],
   "source": [
    "# Write a Python program to count the number of characters (character frequency) in a string.\n",
    "# Expected Result : {'o': 3, 'g': 2, '.': 1, 'e': 1, 'l': 1, 'm': 1, 'c': 1}"
   ]
  },
  {
   "cell_type": "code",
   "execution_count": 118,
   "metadata": {},
   "outputs": [
    {
     "name": "stdout",
     "output_type": "stream",
     "text": [
      "{'g': 2, 'o': 3, 'l': 1, 'e': 1, '.': 1, 'c': 1, 'm': 1}\n"
     ]
    }
   ],
   "source": [
    "def char_frequency(s):\n",
    "    freq_dict = {}  \n",
    "\n",
    "    for char in s:\n",
    "        freq_dict[char] = freq_dict.get(char, 0) + 1 \n",
    "\n",
    "    return freq_dict\n",
    "\n",
    "\n",
    "text = \"google.com\"\n",
    "print(char_frequency(text))\n"
   ]
  }
 ],
 "metadata": {
  "kernelspec": {
   "display_name": "myenv",
   "language": "python",
   "name": "python3"
  },
  "language_info": {
   "codemirror_mode": {
    "name": "ipython",
    "version": 3
   },
   "file_extension": ".py",
   "mimetype": "text/x-python",
   "name": "python",
   "nbconvert_exporter": "python",
   "pygments_lexer": "ipython3",
   "version": "3.13.2"
  }
 },
 "nbformat": 4,
 "nbformat_minor": 4
}
